{
 "cells": [
  {
   "cell_type": "markdown",
   "metadata": {},
   "source": [
    "# Import 3-Coin Returns"
   ]
  },
  {
   "cell_type": "code",
   "execution_count": 12,
   "metadata": {},
   "outputs": [],
   "source": [
    "import numpy as np\n",
    "import pandas as pd\n",
    "np.set_printoptions(precision=3) \n",
    "from scipy.optimize import minimize     #Optimization library\n",
    "from numpy import genfromtxt\n"
   ]
  },
  {
   "cell_type": "code",
   "execution_count": 13,
   "metadata": {},
   "outputs": [
    {
     "data": {
      "text/plain": [
       "(15120, 3)"
      ]
     },
     "execution_count": 13,
     "metadata": {},
     "output_type": "execute_result"
    }
   ],
   "source": [
    "nAssets = 3                     # Number of assets\n",
    "my_data = genfromtxt('returns_coins.csv', delimiter=',')\n",
    "\n",
    "my_ret = np.array(my_data)\n",
    "Return = my_ret[1:,1:4]\n",
    "Return.shape"
   ]
  },
  {
   "cell_type": "markdown",
   "metadata": {},
   "source": [
    "# MVO optimization model"
   ]
  },
  {
   "cell_type": "code",
   "execution_count": 14,
   "metadata": {},
   "outputs": [],
   "source": [
    "def objective(wgt):                         # needed for minimize function below\n",
    "    tol = 15                                # risk tolerance can be changed from conservative to aggressive\n",
    "    obj = -(np.dot(wgt, ret) - (np.dot(wgt, np.dot(covMat, wgt)))/(2*tol))     # Objective function\n",
    "    return obj\n",
    "\n",
    "def constraint1(wgt):                        # needed for minimize function below\n",
    "    cnst1 = wgt[0] + wgt[1] + wgt[2] - 1\n",
    "    return cnst1\n"
   ]
  },
  {
   "cell_type": "markdown",
   "metadata": {},
   "source": [
    "# Use MVO model to generate weights on each rebalance period"
   ]
  },
  {
   "cell_type": "code",
   "execution_count": 15,
   "metadata": {},
   "outputs": [],
   "source": [
    "# define length of rebalence period\n",
    "rebalance_days = 21  "
   ]
  },
  {
   "cell_type": "code",
   "execution_count": 16,
   "metadata": {
    "scrolled": true
   },
   "outputs": [],
   "source": [
    "b = (0,None)                                 # bounds: weight >= 0\n",
    "bnds = (b,b,b)\n",
    "con1 = {'type': 'eq', 'fun': constraint1}    # needed for minimize function below\n",
    "\n",
    "nObs = Return.shape[0]\n",
    "period = round(nObs/rebalance_days)\n",
    "wgt = np.array([1, 0, 0])           # initial weight\n",
    "memo = []\n",
    "\n",
    "for i in range (period):   \n",
    "    \n",
    "    train_i = Return[i*rebalance_days : i*rebalance_days+rebalance_days]\n",
    "    ret = np.mean(train_i,axis=0)                                   # Expected returns (stocks, bonds, and cash)\n",
    "    sdMat = np.diag(np.std(train_i,axis=0))                         # Standard deviations     \n",
    "    #corrMat = np.corrcoef(meanRet.transpose())\n",
    "    corrMat = np.reshape(np.corrcoef(train_i.transpose()), (3,3))   # Correlations\n",
    "    covMat = np.dot(sdMat, np.dot(corrMat, sdMat))                  # Covariance matrix (sd * corr * sd)\n",
    "\n",
    "    \n",
    "    # check if the covariance matrix is PSD\n",
    "    ev = np.linalg.eigvals(corrMat)                   # Eigenvalues of correlation matrix\n",
    "    if sum(n < 0 for n in ev):                        # If eigenvalues are negative then corrMat NOT PSD\n",
    "        # print('*** Error: Correlation matrix is NOT Positive Semi-Definite (PSD)  ***')\n",
    "        print('\\033[1;31m*** Error: Correlation matrix is NOT Positive Semi-Definite (PSD)  ***\\033[1;m]')\n",
    "        print()\n",
    "        print('Eigenvalues =', ev)\n",
    "        print()\n",
    "\n",
    "    \n",
    "    # Run Optimizer\n",
    "    solution = minimize(objective, wgt, method='SLSQP', bounds=bnds, constraints=con1)\n",
    "    \n",
    "    # Record each month's allocation strategy\n",
    "    memo.append(solution.x)\n"
   ]
  },
  {
   "cell_type": "code",
   "execution_count": 17,
   "metadata": {},
   "outputs": [
    {
     "name": "stdout",
     "output_type": "stream",
     "text": [
      "[[1.  0.  0. ]\n",
      " [0.1 0.  0.9]\n",
      " [0.  0.  1. ]\n",
      " [0.  0.  1. ]\n",
      " [0.  0.  1. ]\n",
      " [0.  0.  1. ]\n",
      " [1.  0.  0. ]\n",
      " [0.  0.  1. ]]\n"
     ]
    },
    {
     "data": {
      "text/plain": [
       "720"
      ]
     },
     "execution_count": 17,
     "metadata": {},
     "output_type": "execute_result"
    }
   ],
   "source": [
    "# check weight\n",
    "memo_wgt = np.reshape(np.round(memo,2), (period,3))\n",
    "print(memo_wgt[2:10])\n",
    "len(memo_wgt)"
   ]
  },
  {
   "cell_type": "code",
   "execution_count": 18,
   "metadata": {},
   "outputs": [],
   "source": [
    "# export MVO generated weights\n",
    "df = pd.DataFrame(memo_wgt)\n",
    "df.to_csv('coins_weight_train.csv', index=None, header=True)\n",
    "df.to_csv('coins_weight_test.csv', index=None, header=True)"
   ]
  },
  {
   "cell_type": "code",
   "execution_count": null,
   "metadata": {},
   "outputs": [],
   "source": []
  }
 ],
 "metadata": {
  "kernelspec": {
   "display_name": "Python 3",
   "language": "python",
   "name": "python3"
  },
  "language_info": {
   "codemirror_mode": {
    "name": "ipython",
    "version": 3
   },
   "file_extension": ".py",
   "mimetype": "text/x-python",
   "name": "python",
   "nbconvert_exporter": "python",
   "pygments_lexer": "ipython3",
   "version": "3.6.4"
  }
 },
 "nbformat": 4,
 "nbformat_minor": 2
}
