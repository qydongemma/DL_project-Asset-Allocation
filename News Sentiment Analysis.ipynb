{
 "cells": [
  {
   "cell_type": "markdown",
   "metadata": {},
   "source": [
    "# Sentiment Analysis on Reddit Economic News Headlines\n",
    "\n",
    "### What I did in this notebook is scripting news headlines on reddit, labeling each news as positive, negative or neutral, and check most frequent words in positive posts and negative posts.\n",
    "\n",
    "### Next Steps: discovering the relationship between economic regimes and news labels using machine learning techniques\n",
    "\n",
    "#### Reference: \n",
    "- https://www.learndatasci.com/tutorials/sentiment-analysis-reddit-headlines-pythons-nltk/\n",
    "- https://pythonprogramming.net/introduction-python-reddit-api-wrapper-praw-tutorial/\n",
    "- https://praw.readthedocs.io/en/latest/"
   ]
  },
  {
   "cell_type": "code",
   "execution_count": 45,
   "metadata": {},
   "outputs": [
    {
     "name": "stdout",
     "output_type": "stream",
     "text": [
      "[nltk_data] Downloading package vader_lexicon to\n",
      "[nltk_data]     /Users/apple/nltk_data...\n",
      "[nltk_data]   Package vader_lexicon is already up-to-date!\n"
     ]
    }
   ],
   "source": [
    "from IPython import display\n",
    "import math\n",
    "from pprint import pprint\n",
    "import pandas as pd\n",
    "import numpy as np\n",
    "import nltk\n",
    "nltk.download('vader_lexicon')\n",
    "import matplotlib.pyplot as plt\n",
    "import seaborn as sns\n",
    "sns.set(style='darkgrid', context='talk', palette='Dark2')"
   ]
  },
  {
   "cell_type": "code",
   "execution_count": 46,
   "metadata": {},
   "outputs": [],
   "source": [
    "# !pip install praw    #uncomment to install praw"
   ]
  },
  {
   "cell_type": "code",
   "execution_count": 47,
   "metadata": {},
   "outputs": [],
   "source": [
    "import praw\n",
    "\n",
    "reddit = praw.Reddit(client_id='WRjOfyqAsrBaFw',\n",
    "                     client_secret='iLeL44R_ORjjyeq0OzT4Y3sU2zg',\n",
    "                     user_agent='news script', username='news script')\n",
    "\n",
    "# https://www.reddit.com/prefs/apps"
   ]
  },
  {
   "cell_type": "code",
   "execution_count": 49,
   "metadata": {
    "scrolled": true
   },
   "outputs": [
    {
     "name": "stdout",
     "output_type": "stream",
     "text": [
      "1000\n"
     ]
    }
   ],
   "source": [
    "# scripting the top 1000 submission titles and dates in the past year under 'economy' on https://www.reddit.com/r/economy/\n",
    "# attributes of reddit.subreddit(): https://praw.readthedocs.io/en/latest/code_overview/models/subreddit.html\n",
    "\n",
    "from datetime import datetime\n",
    "\n",
    "headlines = []\n",
    "for submission in reddit.subreddit('economy').top(time_filter='year',limit=None):\n",
    "    headlines.append([submission.title, datetime.fromtimestamp(submission.created_utc).date()]) \n",
    "    display.clear_output()\n",
    "    print(len(headlines))\n",
    "    "
   ]
  },
  {
   "cell_type": "code",
   "execution_count": 52,
   "metadata": {},
   "outputs": [
    {
     "name": "stdout",
     "output_type": "stream",
     "text": [
      "[{'compound': -0.1027,\n",
      "  'date': datetime.date(2018, 11, 24),\n",
      "  'headline': 'Another study shows Gender Pay Gap is really just a Gender Choice Gap',\n",
      "  'neg': 0.113,\n",
      "  'neu': 0.887,\n",
      "  'pos': 0.0},\n",
      " {'compound': -0.1027,\n",
      "  'date': datetime.date(2019, 1, 5),\n",
      "  'headline': 'US national debt has increased $2 trillion since Trump took office',\n",
      "  'neg': 0.184,\n",
      "  'neu': 0.662,\n",
      "  'pos': 0.154},\n",
      " {'compound': 0.0,\n",
      "  'date': datetime.date(2019, 1, 21),\n",
      "  'headline': 'Minnesota Becomes 5th State to Restrict Use of Monsanto Herbicide: States are '\n",
      "              \"standing up to protect us against Monsanto's new herbicide dicamba, since EPA won't\",\n",
      "  'neg': 0.092,\n",
      "  'neu': 0.816,\n",
      "  'pos': 0.092}]\n"
     ]
    }
   ],
   "source": [
    "### sentiment analysis: labeling our data\n",
    "\n",
    "from nltk.sentiment.vader import SentimentIntensityAnalyzer as SIA\n",
    "\n",
    "sia = SIA()\n",
    "results = []\n",
    "\n",
    "for line in headlines:\n",
    "    pol_score = sia.polarity_scores(line[0])\n",
    "    pol_score['headline'] = line[0]\n",
    "    pol_score['date'] = line[1]\n",
    "    results.append(pol_score)\n",
    "\n",
    "pprint(results[:3], width=100)   # see some example outputs\n",
    "# `compound` ranges from -1 (Extremely Negative) to 1 (Extremely Positive)."
   ]
  },
  {
   "cell_type": "code",
   "execution_count": 53,
   "metadata": {},
   "outputs": [
    {
     "data": {
      "text/html": [
       "<div>\n",
       "<style scoped>\n",
       "    .dataframe tbody tr th:only-of-type {\n",
       "        vertical-align: middle;\n",
       "    }\n",
       "\n",
       "    .dataframe tbody tr th {\n",
       "        vertical-align: top;\n",
       "    }\n",
       "\n",
       "    .dataframe thead th {\n",
       "        text-align: right;\n",
       "    }\n",
       "</style>\n",
       "<table border=\"1\" class=\"dataframe\">\n",
       "  <thead>\n",
       "    <tr style=\"text-align: right;\">\n",
       "      <th></th>\n",
       "      <th>compound</th>\n",
       "      <th>date</th>\n",
       "      <th>headline</th>\n",
       "      <th>neg</th>\n",
       "      <th>neu</th>\n",
       "      <th>pos</th>\n",
       "    </tr>\n",
       "  </thead>\n",
       "  <tbody>\n",
       "    <tr>\n",
       "      <th>0</th>\n",
       "      <td>-0.1027</td>\n",
       "      <td>2018-11-24</td>\n",
       "      <td>Another study shows Gender Pay Gap is really j...</td>\n",
       "      <td>0.113</td>\n",
       "      <td>0.887</td>\n",
       "      <td>0.000</td>\n",
       "    </tr>\n",
       "    <tr>\n",
       "      <th>1</th>\n",
       "      <td>-0.1027</td>\n",
       "      <td>2019-01-05</td>\n",
       "      <td>US national debt has increased $2 trillion sin...</td>\n",
       "      <td>0.184</td>\n",
       "      <td>0.662</td>\n",
       "      <td>0.154</td>\n",
       "    </tr>\n",
       "    <tr>\n",
       "      <th>2</th>\n",
       "      <td>0.0000</td>\n",
       "      <td>2019-01-21</td>\n",
       "      <td>Minnesota Becomes 5th State to Restrict Use of...</td>\n",
       "      <td>0.092</td>\n",
       "      <td>0.816</td>\n",
       "      <td>0.092</td>\n",
       "    </tr>\n",
       "    <tr>\n",
       "      <th>3</th>\n",
       "      <td>-0.1027</td>\n",
       "      <td>2018-08-23</td>\n",
       "      <td>Bernie Sanders to Jeff Bezos, who earns $275 m...</td>\n",
       "      <td>0.091</td>\n",
       "      <td>0.909</td>\n",
       "      <td>0.000</td>\n",
       "    </tr>\n",
       "    <tr>\n",
       "      <th>4</th>\n",
       "      <td>-0.5106</td>\n",
       "      <td>2019-01-06</td>\n",
       "      <td>The astonishing thing is that we have clung to...</td>\n",
       "      <td>0.066</td>\n",
       "      <td>0.934</td>\n",
       "      <td>0.000</td>\n",
       "    </tr>\n",
       "  </tbody>\n",
       "</table>\n",
       "</div>"
      ],
      "text/plain": [
       "   compound        date                                           headline  \\\n",
       "0   -0.1027  2018-11-24  Another study shows Gender Pay Gap is really j...   \n",
       "1   -0.1027  2019-01-05  US national debt has increased $2 trillion sin...   \n",
       "2    0.0000  2019-01-21  Minnesota Becomes 5th State to Restrict Use of...   \n",
       "3   -0.1027  2018-08-23  Bernie Sanders to Jeff Bezos, who earns $275 m...   \n",
       "4   -0.5106  2019-01-06  The astonishing thing is that we have clung to...   \n",
       "\n",
       "     neg    neu    pos  \n",
       "0  0.113  0.887  0.000  \n",
       "1  0.184  0.662  0.154  \n",
       "2  0.092  0.816  0.092  \n",
       "3  0.091  0.909  0.000  \n",
       "4  0.066  0.934  0.000  "
      ]
     },
     "execution_count": 53,
     "metadata": {},
     "output_type": "execute_result"
    }
   ],
   "source": [
    "df = pd.DataFrame.from_records(results)\n",
    "df.head()"
   ]
  },
  {
   "cell_type": "code",
   "execution_count": 54,
   "metadata": {},
   "outputs": [
    {
     "data": {
      "text/html": [
       "<div>\n",
       "<style scoped>\n",
       "    .dataframe tbody tr th:only-of-type {\n",
       "        vertical-align: middle;\n",
       "    }\n",
       "\n",
       "    .dataframe tbody tr th {\n",
       "        vertical-align: top;\n",
       "    }\n",
       "\n",
       "    .dataframe thead th {\n",
       "        text-align: right;\n",
       "    }\n",
       "</style>\n",
       "<table border=\"1\" class=\"dataframe\">\n",
       "  <thead>\n",
       "    <tr style=\"text-align: right;\">\n",
       "      <th></th>\n",
       "      <th>compound</th>\n",
       "      <th>date</th>\n",
       "      <th>headline</th>\n",
       "      <th>neg</th>\n",
       "      <th>neu</th>\n",
       "      <th>pos</th>\n",
       "      <th>label</th>\n",
       "    </tr>\n",
       "  </thead>\n",
       "  <tbody>\n",
       "    <tr>\n",
       "      <th>0</th>\n",
       "      <td>-0.1027</td>\n",
       "      <td>2018-11-24</td>\n",
       "      <td>Another study shows Gender Pay Gap is really j...</td>\n",
       "      <td>0.113</td>\n",
       "      <td>0.887</td>\n",
       "      <td>0.000</td>\n",
       "      <td>0</td>\n",
       "    </tr>\n",
       "    <tr>\n",
       "      <th>1</th>\n",
       "      <td>-0.1027</td>\n",
       "      <td>2019-01-05</td>\n",
       "      <td>US national debt has increased $2 trillion sin...</td>\n",
       "      <td>0.184</td>\n",
       "      <td>0.662</td>\n",
       "      <td>0.154</td>\n",
       "      <td>0</td>\n",
       "    </tr>\n",
       "    <tr>\n",
       "      <th>2</th>\n",
       "      <td>0.0000</td>\n",
       "      <td>2019-01-21</td>\n",
       "      <td>Minnesota Becomes 5th State to Restrict Use of...</td>\n",
       "      <td>0.092</td>\n",
       "      <td>0.816</td>\n",
       "      <td>0.092</td>\n",
       "      <td>0</td>\n",
       "    </tr>\n",
       "    <tr>\n",
       "      <th>3</th>\n",
       "      <td>-0.1027</td>\n",
       "      <td>2018-08-23</td>\n",
       "      <td>Bernie Sanders to Jeff Bezos, who earns $275 m...</td>\n",
       "      <td>0.091</td>\n",
       "      <td>0.909</td>\n",
       "      <td>0.000</td>\n",
       "      <td>0</td>\n",
       "    </tr>\n",
       "    <tr>\n",
       "      <th>4</th>\n",
       "      <td>-0.5106</td>\n",
       "      <td>2019-01-06</td>\n",
       "      <td>The astonishing thing is that we have clung to...</td>\n",
       "      <td>0.066</td>\n",
       "      <td>0.934</td>\n",
       "      <td>0.000</td>\n",
       "      <td>-1</td>\n",
       "    </tr>\n",
       "  </tbody>\n",
       "</table>\n",
       "</div>"
      ],
      "text/plain": [
       "   compound        date                                           headline  \\\n",
       "0   -0.1027  2018-11-24  Another study shows Gender Pay Gap is really j...   \n",
       "1   -0.1027  2019-01-05  US national debt has increased $2 trillion sin...   \n",
       "2    0.0000  2019-01-21  Minnesota Becomes 5th State to Restrict Use of...   \n",
       "3   -0.1027  2018-08-23  Bernie Sanders to Jeff Bezos, who earns $275 m...   \n",
       "4   -0.5106  2019-01-06  The astonishing thing is that we have clung to...   \n",
       "\n",
       "     neg    neu    pos  label  \n",
       "0  0.113  0.887  0.000      0  \n",
       "1  0.184  0.662  0.154      0  \n",
       "2  0.092  0.816  0.092      0  \n",
       "3  0.091  0.909  0.000      0  \n",
       "4  0.066  0.934  0.000     -1  "
      ]
     },
     "execution_count": 54,
     "metadata": {},
     "output_type": "execute_result"
    }
   ],
   "source": [
    "# We will consider posts with a compound value greater than 0.2 as positive and less than -0.2 as negative.\n",
    "\n",
    "df['label'] = 0\n",
    "df.loc[df['compound'] > 0.2, 'label'] = 1\n",
    "df.loc[df['compound'] < -0.2, 'label'] = -1\n",
    "df.head()"
   ]
  },
  {
   "cell_type": "code",
   "execution_count": 55,
   "metadata": {},
   "outputs": [
    {
     "name": "stdout",
     "output_type": "stream",
     "text": [
      "-1    403\n",
      " 0    353\n",
      " 1    244\n",
      "Name: label, dtype: int64\n"
     ]
    },
    {
     "data": {
      "image/png": "[encoded data removed]",
      "text/plain": [
       "<matplotlib.figure.Figure at 0x11fbbe9b0>"
      ]
     },
     "metadata": {},
     "output_type": "display_data"
    }
   ],
   "source": [
    "# check how many total positives and negatives we have in this dataset\n",
    "print(df.label.value_counts())\n",
    "\n",
    "fig, ax = plt.subplots(figsize=(8, 8))\n",
    "counts = df.label.value_counts(normalize=True) * 100\n",
    "sns.barplot(x=counts.index, y=counts, ax=ax)\n",
    "ax.set_xticklabels(['Negative', 'Neutral', 'Positive'])\n",
    "ax.set_ylabel(\"Percentage\")\n",
    "plt.show()"
   ]
  },
  {
   "cell_type": "code",
   "execution_count": 57,
   "metadata": {},
   "outputs": [],
   "source": [
    "# save data to csv\n",
    "df.to_csv('reddit_headline_label.csv', mode='a', encoding='utf-8', index=False)"
   ]
  },
  {
   "cell_type": "code",
   "execution_count": 10,
   "metadata": {},
   "outputs": [],
   "source": [
    "### sentiment analysis: tokenizer and word frequency\n",
    "\n",
    "from nltk.tokenize import word_tokenize, RegexpTokenizer\n",
    "from nltk.corpus import stopwords\n",
    "\n",
    "tokenizer = RegexpTokenizer(r'\\w+')\n",
    "stop_words = stopwords.words('english')\n",
    "\n",
    "def process_text(headlines):\n",
    "    tokens = []\n",
    "    for line in headlines:\n",
    "        toks = tokenizer.tokenize(line)\n",
    "        toks = [t.lower() for t in toks if t.lower() not in stop_words]\n",
    "        tokens.extend(toks)\n",
    "    \n",
    "    return tokens"
   ]
  },
  {
   "cell_type": "code",
   "execution_count": 11,
   "metadata": {},
   "outputs": [
    {
     "data": {
      "text/plain": [
       "[('trump', 42),\n",
       " ('us', 22),\n",
       " ('u', 22),\n",
       " ('tax', 21),\n",
       " ('america', 19),\n",
       " ('1', 19),\n",
       " ('rich', 19),\n",
       " ('wage', 18),\n",
       " ('growth', 18),\n",
       " ('states', 17),\n",
       " ('billion', 17),\n",
       " ('world', 16),\n",
       " ('percent', 15),\n",
       " ('says', 14),\n",
       " ('worth', 14),\n",
       " ('united', 13),\n",
       " ('wealth', 13),\n",
       " ('economy', 13),\n",
       " ('china', 13),\n",
       " ('workers', 12)]"
      ]
     },
     "execution_count": 11,
     "metadata": {},
     "output_type": "execute_result"
    }
   ],
   "source": [
    "# grab all positive label headlines from our dataframe, and get the most common words in the positive headlines\n",
    "pos_lines = list(df[df.label == 1].headline)\n",
    "pos_tokens = process_text(pos_lines)\n",
    "pos_freq = nltk.FreqDist(pos_tokens)\n",
    "\n",
    "pos_freq.most_common(20) # top 20 frequent words in positive words"
   ]
  },
  {
   "cell_type": "code",
   "execution_count": 12,
   "metadata": {},
   "outputs": [
    {
     "data": {
      "image/png": "[encoded data removed]",
      "text/plain": [
       "<matplotlib.figure.Figure at 0x114f755f8>"
      ]
     },
     "metadata": {},
     "output_type": "display_data"
    }
   ],
   "source": [
    "# plot the frequency distribution and try to examine the pattern of words and not each word specifically\n",
    "y_val = [x[1] for x in pos_freq.most_common()]\n",
    "\n",
    "fig = plt.figure(figsize=(10,5))\n",
    "plt.plot(y_val)\n",
    "\n",
    "plt.xlabel(\"Words\")\n",
    "plt.ylabel(\"Frequency\")\n",
    "plt.title(\"Word Frequency Distribution (Positive)\")\n",
    "plt.show()"
   ]
  },
  {
   "cell_type": "code",
   "execution_count": 13,
   "metadata": {},
   "outputs": [
    {
     "data": {
      "image/png": "[encoded data removed]",
      "text/plain": [
       "<matplotlib.figure.Figure at 0x11fbd3be0>"
      ]
     },
     "metadata": {},
     "output_type": "display_data"
    }
   ],
   "source": [
    "# we use a log-log plot to check if the word frequency follows power-law distribution (https://en.wikipedia.org/wiki/Power_law)\n",
    "y_final = []\n",
    "for i, k, z, t in zip(y_val[0::4], y_val[1::4], y_val[2::4], y_val[3::4]):\n",
    "    y_final.append(math.log(i + k + z + t))\n",
    "\n",
    "x_val = [math.log(i + 1) for i in range(len(y_final))]\n",
    "\n",
    "fig = plt.figure(figsize=(10,5))\n",
    "\n",
    "plt.xlabel(\"Words (Log)\")\n",
    "plt.ylabel(\"Frequency (Log)\")\n",
    "plt.title(\"Word Frequency Distribution (Positive)\")\n",
    "plt.plot(x_val, y_final)\n",
    "plt.show()"
   ]
  },
  {
   "cell_type": "code",
   "execution_count": 15,
   "metadata": {},
   "outputs": [
    {
     "data": {
      "text/plain": [
       "[('trump', 82),\n",
       " ('us', 63),\n",
       " ('debt', 47),\n",
       " ('trade', 41),\n",
       " ('u', 40),\n",
       " ('war', 30),\n",
       " ('america', 29),\n",
       " ('china', 29),\n",
       " ('economy', 28),\n",
       " ('new', 26),\n",
       " ('student', 26),\n",
       " ('tax', 24),\n",
       " ('says', 24),\n",
       " ('recession', 23),\n",
       " ('crisis', 22),\n",
       " ('americans', 22),\n",
       " ('tariffs', 21),\n",
       " ('trillion', 21),\n",
       " ('1', 20),\n",
       " ('could', 20)]"
      ]
     },
     "execution_count": 15,
     "metadata": {},
     "output_type": "execute_result"
    }
   ],
   "source": [
    "# do the same to see word frequency in negative posts\n",
    "neg_lines = list(df[df.label == -1].headline)\n",
    "\n",
    "neg_tokens = process_text(neg_lines)\n",
    "neg_freq = nltk.FreqDist(neg_tokens)\n",
    "\n",
    "neg_freq.most_common(20) # top 20 frequent words in negative posts"
   ]
  },
  {
   "cell_type": "code",
   "execution_count": 16,
   "metadata": {},
   "outputs": [
    {
     "data": {
      "image/png": "[encoded data removed]",
      "text/plain": [
       "<matplotlib.figure.Figure at 0x120125d68>"
      ]
     },
     "metadata": {},
     "output_type": "display_data"
    }
   ],
   "source": [
    "y_val = [x[1] for x in neg_freq.most_common()]\n",
    "\n",
    "fig = plt.figure(figsize=(10,5))\n",
    "plt.plot(y_val)\n",
    "\n",
    "plt.xlabel(\"Words\")\n",
    "plt.ylabel(\"Frequency\")\n",
    "plt.title(\"Word Frequency Distribution (Negative)\")\n",
    "plt.show()"
   ]
  },
  {
   "cell_type": "code",
   "execution_count": 17,
   "metadata": {},
   "outputs": [
    {
     "data": {
      "image/png": "[encoded data removed]",
      "text/plain": [
       "<matplotlib.figure.Figure at 0x11fe45c50>"
      ]
     },
     "metadata": {},
     "output_type": "display_data"
    }
   ],
   "source": [
    "y_final = []\n",
    "for i, k, z in zip(y_val[0::3], y_val[1::3], y_val[2::3]):\n",
    "    if i + k + z == 0:\n",
    "        break\n",
    "    y_final.append(math.log(i + k + z))\n",
    "\n",
    "x_val = [math.log(i+1) for i in range(len(y_final))]\n",
    "\n",
    "fig = plt.figure(figsize=(10,5))\n",
    "\n",
    "plt.xlabel(\"Words (Log)\")\n",
    "plt.ylabel(\"Frequency (Log)\")\n",
    "plt.title(\"Word Frequency Distribution (Negative)\")\n",
    "plt.plot(x_val, y_final)\n",
    "plt.show()"
   ]
  },
  {
   "cell_type": "code",
   "execution_count": 144,
   "metadata": {},
   "outputs": [
    {
     "name": "stderr",
     "output_type": "stream",
     "text": [
      "/Users/apple/anaconda3/lib/python3.6/site-packages/ipykernel_launcher.py:10: FutureWarning: set_value is deprecated and will be removed in a future release. Please use .at[] or .iat[] accessors instead\n",
      "  # Remove the CWD from sys.path while we load stuff.\n"
     ]
    },
    {
     "data": {
      "text/html": [
       "<div>\n",
       "<style scoped>\n",
       "    .dataframe tbody tr th:only-of-type {\n",
       "        vertical-align: middle;\n",
       "    }\n",
       "\n",
       "    .dataframe tbody tr th {\n",
       "        vertical-align: top;\n",
       "    }\n",
       "\n",
       "    .dataframe thead th {\n",
       "        text-align: right;\n",
       "    }\n",
       "</style>\n",
       "<table border=\"1\" class=\"dataframe\">\n",
       "  <thead>\n",
       "    <tr style=\"text-align: right;\">\n",
       "      <th></th>\n",
       "      <th>Date</th>\n",
       "      <th>Open</th>\n",
       "      <th>High</th>\n",
       "      <th>Low</th>\n",
       "      <th>Close</th>\n",
       "      <th>Adj Close</th>\n",
       "      <th>Volume</th>\n",
       "    </tr>\n",
       "  </thead>\n",
       "  <tbody>\n",
       "    <tr>\n",
       "      <th>0</th>\n",
       "      <td>2018-07-30</td>\n",
       "      <td>2819.000000</td>\n",
       "      <td>2821.739990</td>\n",
       "      <td>2798.110107</td>\n",
       "      <td>2802.600098</td>\n",
       "      <td>2802.600098</td>\n",
       "      <td>3245770000</td>\n",
       "    </tr>\n",
       "    <tr>\n",
       "      <th>1</th>\n",
       "      <td>2018-07-31</td>\n",
       "      <td>2809.729980</td>\n",
       "      <td>2824.459961</td>\n",
       "      <td>2808.060059</td>\n",
       "      <td>2816.290039</td>\n",
       "      <td>2816.290039</td>\n",
       "      <td>3892100000</td>\n",
       "    </tr>\n",
       "    <tr>\n",
       "      <th>2</th>\n",
       "      <td>2018-08-01</td>\n",
       "      <td>2821.169922</td>\n",
       "      <td>2825.830078</td>\n",
       "      <td>2805.850098</td>\n",
       "      <td>2813.360107</td>\n",
       "      <td>2813.360107</td>\n",
       "      <td>3496990000</td>\n",
       "    </tr>\n",
       "    <tr>\n",
       "      <th>3</th>\n",
       "      <td>2018-08-02</td>\n",
       "      <td>2800.479980</td>\n",
       "      <td>2829.909912</td>\n",
       "      <td>2796.340088</td>\n",
       "      <td>2827.219971</td>\n",
       "      <td>2827.219971</td>\n",
       "      <td>3467380000</td>\n",
       "    </tr>\n",
       "    <tr>\n",
       "      <th>4</th>\n",
       "      <td>2018-08-03</td>\n",
       "      <td>2829.620117</td>\n",
       "      <td>2840.379883</td>\n",
       "      <td>2827.370117</td>\n",
       "      <td>2840.350098</td>\n",
       "      <td>2840.350098</td>\n",
       "      <td>3030390000</td>\n",
       "    </tr>\n",
       "  </tbody>\n",
       "</table>\n",
       "</div>"
      ],
      "text/plain": [
       "         Date         Open         High          Low        Close  \\\n",
       "0  2018-07-30  2819.000000  2821.739990  2798.110107  2802.600098   \n",
       "1  2018-07-31  2809.729980  2824.459961  2808.060059  2816.290039   \n",
       "2  2018-08-01  2821.169922  2825.830078  2805.850098  2813.360107   \n",
       "3  2018-08-02  2800.479980  2829.909912  2796.340088  2827.219971   \n",
       "4  2018-08-03  2829.620117  2840.379883  2827.370117  2840.350098   \n",
       "\n",
       "     Adj Close      Volume  \n",
       "0  2802.600098  3245770000  \n",
       "1  2816.290039  3892100000  \n",
       "2  2813.360107  3496990000  \n",
       "3  2827.219971  3467380000  \n",
       "4  2840.350098  3030390000  "
      ]
     },
     "execution_count": 144,
     "metadata": {},
     "output_type": "execute_result"
    }
   ],
   "source": [
    "### relationship between news signals and sp500\n",
    "\n",
    "# getting sp500 daily data from https://finance.yahoo.com/quote/%5EGSPC/history?period1=1532836800&period2=1564372800&interval=1d&filter=history&frequency=1d\n",
    "\n",
    "import pandas as pd\n",
    "sp = pd.read_csv('sp500.csv', sep=',')\n",
    "\n",
    "# converting Date into datetime\n",
    "for i in range(len(sp.Date)):\n",
    "    sp.set_value(i, 'Date', datetime.strptime(sp.Date[i],'%Y-%m-%d').date())\n",
    "sp.Date.unique()\n",
    "sp.head()"
   ]
  },
  {
   "cell_type": "code",
   "execution_count": 145,
   "metadata": {
    "scrolled": true
   },
   "outputs": [
    {
     "data": {
      "text/html": [
       "<div>\n",
       "<style scoped>\n",
       "    .dataframe tbody tr th:only-of-type {\n",
       "        vertical-align: middle;\n",
       "    }\n",
       "\n",
       "    .dataframe tbody tr th {\n",
       "        vertical-align: top;\n",
       "    }\n",
       "\n",
       "    .dataframe thead th {\n",
       "        text-align: right;\n",
       "    }\n",
       "</style>\n",
       "<table border=\"1\" class=\"dataframe\">\n",
       "  <thead>\n",
       "    <tr style=\"text-align: right;\">\n",
       "      <th></th>\n",
       "      <th>Date</th>\n",
       "      <th>Open</th>\n",
       "      <th>High</th>\n",
       "      <th>Low</th>\n",
       "      <th>Close</th>\n",
       "      <th>Adj Close</th>\n",
       "      <th>Volume</th>\n",
       "      <th>compound</th>\n",
       "      <th>date</th>\n",
       "      <th>headline</th>\n",
       "      <th>neg</th>\n",
       "      <th>neu</th>\n",
       "      <th>pos</th>\n",
       "      <th>label</th>\n",
       "    </tr>\n",
       "  </thead>\n",
       "  <tbody>\n",
       "    <tr>\n",
       "      <th>0</th>\n",
       "      <td>2018-07-30</td>\n",
       "      <td>2819.0</td>\n",
       "      <td>2821.73999</td>\n",
       "      <td>2798.110107</td>\n",
       "      <td>2802.600098</td>\n",
       "      <td>2802.600098</td>\n",
       "      <td>3245770000</td>\n",
       "      <td>0.0000</td>\n",
       "      <td>2018-07-30</td>\n",
       "      <td>US housing market slowdown waves red flag for ...</td>\n",
       "      <td>0.000</td>\n",
       "      <td>1.000</td>\n",
       "      <td>0.000</td>\n",
       "      <td>0.0</td>\n",
       "    </tr>\n",
       "    <tr>\n",
       "      <th>1</th>\n",
       "      <td>2018-07-30</td>\n",
       "      <td>2819.0</td>\n",
       "      <td>2821.73999</td>\n",
       "      <td>2798.110107</td>\n",
       "      <td>2802.600098</td>\n",
       "      <td>2802.600098</td>\n",
       "      <td>3245770000</td>\n",
       "      <td>0.0000</td>\n",
       "      <td>2018-07-30</td>\n",
       "      <td>China is laying the groundwork for a post-Amer...</td>\n",
       "      <td>0.000</td>\n",
       "      <td>1.000</td>\n",
       "      <td>0.000</td>\n",
       "      <td>0.0</td>\n",
       "    </tr>\n",
       "    <tr>\n",
       "      <th>2</th>\n",
       "      <td>2018-07-30</td>\n",
       "      <td>2819.0</td>\n",
       "      <td>2821.73999</td>\n",
       "      <td>2798.110107</td>\n",
       "      <td>2802.600098</td>\n",
       "      <td>2802.600098</td>\n",
       "      <td>3245770000</td>\n",
       "      <td>0.1298</td>\n",
       "      <td>2018-07-30</td>\n",
       "      <td>Bernie Sanders’s $32 trillion Medicare-for-all...</td>\n",
       "      <td>0.000</td>\n",
       "      <td>0.869</td>\n",
       "      <td>0.131</td>\n",
       "      <td>0.0</td>\n",
       "    </tr>\n",
       "    <tr>\n",
       "      <th>3</th>\n",
       "      <td>2018-07-30</td>\n",
       "      <td>2819.0</td>\n",
       "      <td>2821.73999</td>\n",
       "      <td>2798.110107</td>\n",
       "      <td>2802.600098</td>\n",
       "      <td>2802.600098</td>\n",
       "      <td>3245770000</td>\n",
       "      <td>0.0000</td>\n",
       "      <td>2018-07-30</td>\n",
       "      <td>Should people be paid for their data?</td>\n",
       "      <td>0.000</td>\n",
       "      <td>1.000</td>\n",
       "      <td>0.000</td>\n",
       "      <td>0.0</td>\n",
       "    </tr>\n",
       "    <tr>\n",
       "      <th>4</th>\n",
       "      <td>2018-07-30</td>\n",
       "      <td>2819.0</td>\n",
       "      <td>2821.73999</td>\n",
       "      <td>2798.110107</td>\n",
       "      <td>2802.600098</td>\n",
       "      <td>2802.600098</td>\n",
       "      <td>3245770000</td>\n",
       "      <td>-0.1027</td>\n",
       "      <td>2018-07-30</td>\n",
       "      <td>Full-scale bailout for industries impacted by ...</td>\n",
       "      <td>0.091</td>\n",
       "      <td>0.909</td>\n",
       "      <td>0.000</td>\n",
       "      <td>0.0</td>\n",
       "    </tr>\n",
       "  </tbody>\n",
       "</table>\n",
       "</div>"
      ],
      "text/plain": [
       "         Date    Open        High          Low        Close    Adj Close  \\\n",
       "0  2018-07-30  2819.0  2821.73999  2798.110107  2802.600098  2802.600098   \n",
       "1  2018-07-30  2819.0  2821.73999  2798.110107  2802.600098  2802.600098   \n",
       "2  2018-07-30  2819.0  2821.73999  2798.110107  2802.600098  2802.600098   \n",
       "3  2018-07-30  2819.0  2821.73999  2798.110107  2802.600098  2802.600098   \n",
       "4  2018-07-30  2819.0  2821.73999  2798.110107  2802.600098  2802.600098   \n",
       "\n",
       "       Volume  compound        date  \\\n",
       "0  3245770000    0.0000  2018-07-30   \n",
       "1  3245770000    0.0000  2018-07-30   \n",
       "2  3245770000    0.1298  2018-07-30   \n",
       "3  3245770000    0.0000  2018-07-30   \n",
       "4  3245770000   -0.1027  2018-07-30   \n",
       "\n",
       "                                            headline    neg    neu    pos  \\\n",
       "0  US housing market slowdown waves red flag for ...  0.000  1.000  0.000   \n",
       "1  China is laying the groundwork for a post-Amer...  0.000  1.000  0.000   \n",
       "2  Bernie Sanders’s $32 trillion Medicare-for-all...  0.000  0.869  0.131   \n",
       "3              Should people be paid for their data?  0.000  1.000  0.000   \n",
       "4  Full-scale bailout for industries impacted by ...  0.091  0.909  0.000   \n",
       "\n",
       "   label  \n",
       "0    0.0  \n",
       "1    0.0  \n",
       "2    0.0  \n",
       "3    0.0  \n",
       "4    0.0  "
      ]
     },
     "execution_count": 145,
     "metadata": {},
     "output_type": "execute_result"
    }
   ],
   "source": [
    "data = pd.merge(sp, df, how='left',left_on='Date', right_on='date')\n",
    "\n",
    "data.head()"
   ]
  },
  {
   "cell_type": "code",
   "execution_count": 146,
   "metadata": {
    "scrolled": true
   },
   "outputs": [
    {
     "data": {
      "text/html": [
       "<div>\n",
       "<style scoped>\n",
       "    .dataframe tbody tr th:only-of-type {\n",
       "        vertical-align: middle;\n",
       "    }\n",
       "\n",
       "    .dataframe tbody tr th {\n",
       "        vertical-align: top;\n",
       "    }\n",
       "\n",
       "    .dataframe thead th {\n",
       "        text-align: right;\n",
       "    }\n",
       "</style>\n",
       "<table border=\"1\" class=\"dataframe\">\n",
       "  <thead>\n",
       "    <tr style=\"text-align: right;\">\n",
       "      <th></th>\n",
       "      <th>Close</th>\n",
       "      <th>compound</th>\n",
       "    </tr>\n",
       "  </thead>\n",
       "  <tbody>\n",
       "    <tr>\n",
       "      <th>Close</th>\n",
       "      <td>1.000000</td>\n",
       "      <td>0.078293</td>\n",
       "    </tr>\n",
       "    <tr>\n",
       "      <th>compound</th>\n",
       "      <td>0.078293</td>\n",
       "      <td>1.000000</td>\n",
       "    </tr>\n",
       "  </tbody>\n",
       "</table>\n",
       "</div>"
      ],
      "text/plain": [
       "             Close  compound\n",
       "Close     1.000000  0.078293\n",
       "compound  0.078293  1.000000"
      ]
     },
     "execution_count": 146,
     "metadata": {},
     "output_type": "execute_result"
    }
   ],
   "source": [
    "data[['Close','compound']].corr()"
   ]
  },
  {
   "cell_type": "code",
   "execution_count": 147,
   "metadata": {
    "scrolled": true
   },
   "outputs": [
    {
     "data": {
      "text/html": [
       "<div>\n",
       "<style scoped>\n",
       "    .dataframe tbody tr th:only-of-type {\n",
       "        vertical-align: middle;\n",
       "    }\n",
       "\n",
       "    .dataframe tbody tr th {\n",
       "        vertical-align: top;\n",
       "    }\n",
       "\n",
       "    .dataframe thead th {\n",
       "        text-align: right;\n",
       "    }\n",
       "</style>\n",
       "<table border=\"1\" class=\"dataframe\">\n",
       "  <thead>\n",
       "    <tr style=\"text-align: right;\">\n",
       "      <th></th>\n",
       "      <th>Close</th>\n",
       "      <th>compound</th>\n",
       "    </tr>\n",
       "  </thead>\n",
       "  <tbody>\n",
       "    <tr>\n",
       "      <th>Close</th>\n",
       "      <td>1.000000</td>\n",
       "      <td>0.078293</td>\n",
       "    </tr>\n",
       "    <tr>\n",
       "      <th>compound</th>\n",
       "      <td>0.078293</td>\n",
       "      <td>1.000000</td>\n",
       "    </tr>\n",
       "  </tbody>\n",
       "</table>\n",
       "</div>"
      ],
      "text/plain": [
       "             Close  compound\n",
       "Close     1.000000  0.078293\n",
       "compound  0.078293  1.000000"
      ]
     },
     "execution_count": 147,
     "metadata": {},
     "output_type": "execute_result"
    }
   ],
   "source": [
    "data[['Close','compound']].corr()"
   ]
  },
  {
   "cell_type": "code",
   "execution_count": null,
   "metadata": {},
   "outputs": [],
   "source": []
  }
 ],
 "metadata": {
  "kernelspec": {
   "display_name": "Python 3",
   "language": "python",
   "name": "python3"
  },
  "language_info": {
   "codemirror_mode": {
    "name": "ipython",
    "version": 3
   },
   "file_extension": ".py",
   "mimetype": "text/x-python",
   "name": "python",
   "nbconvert_exporter": "python",
   "pygments_lexer": "ipython3",
   "version": "3.6.4"
  }
 },
 "nbformat": 4,
 "nbformat_minor": 2
}
