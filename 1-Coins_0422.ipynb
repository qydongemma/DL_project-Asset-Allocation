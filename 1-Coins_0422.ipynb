{
 "cells": [
  {
   "cell_type": "markdown",
   "metadata": {},
   "source": [
    "### Simulate Stock Price"
   ]
  },
  {
   "cell_type": "code",
   "execution_count": 24,
   "metadata": {},
   "outputs": [],
   "source": [
    "import numpy as np\n",
    "import pandas as pd\n",
    "import matplotlib.pyplot as plt"
   ]
  },
  {
   "cell_type": "code",
   "execution_count": 25,
   "metadata": {},
   "outputs": [
    {
     "data": {
      "text/plain": [
       "array([0, 1, 2, 1, 0, 1, 2, 3, 4, 5, 4, 5, 4, 3, 2, 3, 2])"
      ]
     },
     "execution_count": 25,
     "metadata": {},
     "output_type": "execute_result"
    }
   ],
   "source": [
    "def fairCoinvsBiasedCoin(y):\n",
    "    a = y.insert(0,0)\n",
    "    y = np.array(y)\n",
    "    Y = np.cumsum(y)\n",
    "    return Y\n",
    "y = [1,1,-1,-1,1,1,1,1,1,-1,1,-1,-1,-1,1,-1];\n",
    "fairCoinvsBiasedCoin(y)"
   ]
  },
  {
   "cell_type": "code",
   "execution_count": 26,
   "metadata": {},
   "outputs": [],
   "source": [
    "def pathGenerator(nN, shape, scale, p, T, stock):\n",
    "    # s_1: head-biased \n",
    "    # s_2: fair\n",
    "    # s_3: tail-biased\n",
    "    # p = [0.6, 0.38]\n",
    "    \n",
    "    S = [[p[0],1-p[0]],\n",
    "         [0.5,0.5],\n",
    "         [p[1],1-p[1]]]\n",
    "   \n",
    "    state = 2; # initialize state\n",
    "    x = stock*np.ones((nN,1))\n",
    "    \n",
    "    lda = 90 # lamda = 180 for Possion distn\n",
    "    regimeLength = np.random.poisson(lda)\n",
    "    count = 0\n",
    "    vol = np.random.uniform() # generate an uniform distribution\n",
    "    \n",
    "    for j in range(1,nN):\n",
    "        \n",
    "        if count == regimeLength:\n",
    "            regimeLength = np.random.poisson(lda)\n",
    "            count = 0\n",
    "            vol = np.random.uniform()\n",
    "        else:\n",
    "            count += 1\n",
    "        \n",
    "        u = np.random.uniform()\n",
    "        \n",
    "        \n",
    "        if state == 1:\n",
    "            if u > float(T[state-1][0]):\n",
    "                state = 2\n",
    "        elif state == 2:\n",
    "            if u < float(T[state-1][0]):\n",
    "                state = 1\n",
    "            elif u > float(T[state-1][0]) and u < float(T[state-1][1]):\n",
    "                state = 2\n",
    "            else:\n",
    "                state = 3\n",
    "        elif state == 3:\n",
    "            if u > float(T[state-1][2]):\n",
    "                state = 2\n",
    "        #print('updated state is: '+ str(state))        \n",
    "        \n",
    "        u = np.random.uniform()\n",
    "        #print(u)\n",
    "        if u < float(S[state-1][0]):\n",
    "            \n",
    "            x[j] = vol*np.random.gamma(shape, scale)\n",
    "        else:\n",
    "            x[j] = -vol*np.random.gamma(shape, scale)\n",
    "    #print(x)\n",
    "    return np.cumsum(x)"
   ]
  },
  {
   "cell_type": "code",
   "execution_count": 27,
   "metadata": {},
   "outputs": [],
   "source": [
    "def marketProxyModels(whichScenario, nN, stock):\n",
    "    # which secenario\n",
    "    scenario_dict = {}\n",
    "    scenario_dict[1] = [0.6, 0.44]\n",
    "    scenario_dict[2] = [0.6, 0.20]\n",
    "    scenario_dict[3] = [0.7, 0.3]\n",
    "    scenario_dict[4] = [0.9, 0.1]\n",
    "    \n",
    "    transP = scenario_dict[whichScenario]\n",
    "    \n",
    "    \n",
    "    transP.append(transP[1])\n",
    "    transP.append(transP[0])\n",
    "    \n",
    "    \n",
    "    T = [[transP[0], 1.0-transP[0], 0.00],\n",
    "     [transP[1], 1.0-(sum(transP[1:2])), transP[2]],\n",
    "     [0.00  , 1.0-transP[2], transP[2]]]\n",
    "    \n",
    "    \n",
    "    #print('successfully generate transP')\n",
    "    shape = 0.5\n",
    "    scale = 0.25\n",
    "    \n",
    "    p = [0.6, 0.38]\n",
    "    return pathGenerator(nN, shape, scale, p, T, stock)\n",
    "    \n",
    "\n",
    "#marketProxyModels(1, 10) "
   ]
  },
  {
   "cell_type": "markdown",
   "metadata": {},
   "source": [
    "# Simulating stock returns using 3-coin methods"
   ]
  },
  {
   "cell_type": "code",
   "execution_count": 59,
   "metadata": {
    "scrolled": true
   },
   "outputs": [
    {
     "data": {
      "text/plain": [
       "4.859619547051313"
      ]
     },
     "execution_count": 59,
     "metadata": {},
     "output_type": "execute_result"
    }
   ],
   "source": [
    "# define size of data\n",
    "nYear = 60\n",
    "\n",
    "# stock 1\n",
    "test_1 = marketProxyModels(3, 252*nYear+1, 150) # 150 lamda:180\n",
    "stock_sd = np.std(test_1)\n",
    "stock_sd\n",
    "\n",
    "# stock 2\n",
    "test_2 = marketProxyModels(1, 252*nYear+1, 90)\n",
    "stock_sd1 = np.std(test_2)\n",
    "stock_sd1"
   ]
  },
  {
   "cell_type": "code",
   "execution_count": 60,
   "metadata": {},
   "outputs": [],
   "source": [
    "import pandas as pd"
   ]
  },
  {
   "cell_type": "code",
   "execution_count": 61,
   "metadata": {},
   "outputs": [],
   "source": [
    "#wt = np.diff(test_1)\n",
    "wt = pd.DataFrame(test_1)\n",
    "wt_pct = wt.pct_change()\n",
    "df_pct = wt_pct.values\n",
    "df_pct[0][0]=0\n",
    "stock_rt = df_pct\n"
   ]
  },
  {
   "cell_type": "markdown",
   "metadata": {},
   "source": [
    "### Simulate Stock Price"
   ]
  },
  {
   "cell_type": "code",
   "execution_count": 62,
   "metadata": {
    "scrolled": true
   },
   "outputs": [
    {
     "data": {
      "text/plain": [
       "<matplotlib.axes._subplots.AxesSubplot at 0x118de24e0>"
      ]
     },
     "execution_count": 62,
     "metadata": {},
     "output_type": "execute_result"
    },
    {
     "data": {
      "image/png": "[encoded data removed]",
      "text/plain": [
       "<matplotlib.figure.Figure at 0x118e06cf8>"
      ]
     },
     "metadata": {},
     "output_type": "display_data"
    }
   ],
   "source": [
    "import pandas as pd\n",
    "\n",
    "stock90_1 = marketProxyModels(1, 1000, 90)\n",
    "stock90_2 = marketProxyModels(2, 1000, 90)\n",
    "stock90_3 = marketProxyModels(3, 1000, 90)\n",
    "\n",
    "df_test_1 = pd.DataFrame(stock90_1)\n",
    "df_test_1.plot(title = 'Initial price: 90 under state 1')\n"
   ]
  },
  {
   "cell_type": "code",
   "execution_count": 63,
   "metadata": {},
   "outputs": [
    {
     "data": {
      "text/plain": [
       "<matplotlib.axes._subplots.AxesSubplot at 0x119ce3a20>"
      ]
     },
     "execution_count": 63,
     "metadata": {},
     "output_type": "execute_result"
    },
    {
     "data": {
      "image/png": "[encoded data removed]",
      "text/plain": [
       "<matplotlib.figure.Figure at 0x114ece4a8>"
      ]
     },
     "metadata": {},
     "output_type": "display_data"
    }
   ],
   "source": [
    "df_test_2 = pd.DataFrame(stock90_2)\n",
    "df_test_2.plot(title = 'Initial price: 90 under state 2')\n"
   ]
  },
  {
   "cell_type": "code",
   "execution_count": 64,
   "metadata": {},
   "outputs": [
    {
     "data": {
      "text/plain": [
       "<matplotlib.axes._subplots.AxesSubplot at 0x11948bcf8>"
      ]
     },
     "execution_count": 64,
     "metadata": {},
     "output_type": "execute_result"
    },
    {
     "data": {
      "image/png": "[encoded data removed]",
      "text/plain": [
       "<matplotlib.figure.Figure at 0x1085e5208>"
      ]
     },
     "metadata": {},
     "output_type": "display_data"
    }
   ],
   "source": [
    "df_test_3 = pd.DataFrame(stock90_3)\n",
    "df_test_3.plot(title = 'Initial price: 90 under state 3')\n"
   ]
  },
  {
   "cell_type": "markdown",
   "metadata": {},
   "source": [
    "### Simulate Interest Rate\n",
    "https://github.com/jamesmawm/Mastering-Python-for-Finance-source-codes/blob/master/B03898_05_Codes/vasicek.py"
   ]
  },
  {
   "cell_type": "code",
   "execution_count": 65,
   "metadata": {},
   "outputs": [],
   "source": [
    "\"\"\" Simulate interest rate path by the Vasicek model \"\"\"\n",
    "import numpy as np\n",
    "\n",
    "def vasicek(r0, K, theta, sigma, T=1., N=10, seed=777):    \n",
    "    np.random.seed(seed)\n",
    "    dt = T/float(N)    \n",
    "    rates = [r0]\n",
    "    for i in range(N):\n",
    "        dr = K*(theta-rates[-1])*dt + sigma*np.random.normal()\n",
    "        rates.append(rates[-1] + dr)\n",
    "    return range(N+1), rates\n",
    "\n",
    "#if __name__ == \"__main__\":\n",
    "x, y = vasicek(0.01875, 0.20, 0.01, 0.012, 10., 252*nYear)\n"
   ]
  },
  {
   "cell_type": "code",
   "execution_count": 66,
   "metadata": {},
   "outputs": [
    {
     "name": "stdout",
     "output_type": "stream",
     "text": [
      "15121\n",
      "(15121,)\n",
      "(15121,)\n"
     ]
    }
   ],
   "source": [
    "print(len(x))\n",
    "print(test_1.shape)\n",
    "print(test_2.shape)\n"
   ]
  },
  {
   "cell_type": "code",
   "execution_count": 67,
   "metadata": {
    "scrolled": true
   },
   "outputs": [
    {
     "data": {
      "image/png": "[encoded data removed]",
      "text/plain": [
       "<matplotlib.figure.Figure at 0x114f227b8>"
      ]
     },
     "metadata": {},
     "output_type": "display_data"
    }
   ],
   "source": [
    "import matplotlib.pyplot as plt\n",
    "\n",
    "plt.plot(x,y)\n",
    "plt.show()\n",
    "#print(y)"
   ]
  },
  {
   "cell_type": "code",
   "execution_count": 68,
   "metadata": {},
   "outputs": [],
   "source": [
    "import pandas as pd"
   ]
  },
  {
   "cell_type": "code",
   "execution_count": 69,
   "metadata": {},
   "outputs": [],
   "source": [
    "#wt = np.diff(test_1)\n",
    "wt = pd.DataFrame(test_1)\n",
    "wt_pct = wt.pct_change()\n",
    "df_pct = wt_pct.values\n",
    "df_pct[0][0]=0\n",
    "stock_ret = df_pct\n",
    "stock_sd = np.std(test_1)"
   ]
  },
  {
   "cell_type": "code",
   "execution_count": 70,
   "metadata": {},
   "outputs": [],
   "source": [
    "wt2 = pd.DataFrame(test_2)\n",
    "wt2_pct = wt2.pct_change()\n",
    "df_pct2 = wt2_pct.values\n",
    "df_pct2[0][0]=0\n",
    "stock_ret2 = df_pct2\n",
    "stock_sd2 = np.std(test_2)"
   ]
  },
  {
   "cell_type": "code",
   "execution_count": 71,
   "metadata": {
    "scrolled": true
   },
   "outputs": [],
   "source": [
    "ir_wgt = pd.DataFrame(y)\n",
    "ir_wgt_ = ir_wgt.pct_change()\n",
    "ir_wgt_[0][0]=0\n",
    "cash_ret = ir_wgt_\n",
    "#cash_ret"
   ]
  },
  {
   "cell_type": "code",
   "execution_count": 72,
   "metadata": {
    "scrolled": true
   },
   "outputs": [],
   "source": [
    "#stock_cash = np.array([stock_ret,cash_ret])\n",
    "stock_cash = np.concatenate((stock_ret,stock_ret2, cash_ret),axis=1)"
   ]
  },
  {
   "cell_type": "code",
   "execution_count": 73,
   "metadata": {},
   "outputs": [],
   "source": [
    "std = np.std(stock_cash,axis=0)\n",
    "sdMat = np.diag(np.std(stock_cash,axis=0))                         # Standard deviations \n",
    "corrMat = np.corrcoef(stock_cash.transpose())\n",
    "#corrMat = np.reshape(np.corrcoef(stock_cash.transpose()),(3,3))   # Correlations\n",
    "covMat = np.dot(sdMat, np.dot(corrMat, sdMat))                  # Covariance matrix (sd * corr * sd)"
   ]
  },
  {
   "cell_type": "code",
   "execution_count": 74,
   "metadata": {},
   "outputs": [
    {
     "name": "stdout",
     "output_type": "stream",
     "text": [
      "[[0.000758   0.         0.        ]\n",
      " [0.         0.00141147 0.        ]\n",
      " [0.         0.         0.60865682]]\n",
      "[[ 5.74567714e-07  1.64990408e-09 -3.35539944e-06]\n",
      " [ 1.64990408e-09  1.99225182e-06 -3.04341192e-06]\n",
      " [-3.35539944e-06 -3.04341192e-06  3.70463128e-01]]\n",
      "(3, 3)\n"
     ]
    }
   ],
   "source": [
    "print(sdMat)\n",
    "print(covMat)\n",
    "print(covMat.shape)"
   ]
  },
  {
   "cell_type": "code",
   "execution_count": 75,
   "metadata": {},
   "outputs": [],
   "source": [
    "ev = np.linalg.eigvals(corrMat)                   # Eigenvalues of correlation matrix\n",
    "if sum(n < 0 for n in ev):                        # If eigenvalues are negative then corrMat NOT PSD\n",
    "    # print('*** Error: Correlation matrix is NOT Positive Semi-Definite (PSD)  ***')\n",
    "    print('\\033[1;31m*** Error: Correlation matrix is NOT Positive Semi-Definite (PSD)  ***\\033[1;m]')\n",
    "    print()\n",
    "    print('Eigenvalues =', ev)\n",
    "    print()"
   ]
  },
  {
   "cell_type": "code",
   "execution_count": 76,
   "metadata": {},
   "outputs": [],
   "source": [
    "df_coins = pd.DataFrame(stock_cash).iloc[1:,:]\n",
    "\n",
    "df_coins.to_csv('returns_coins.csv')\n",
    "#df_coins.to_csv('merge_weight_test.csv')\n"
   ]
  },
  {
   "cell_type": "code",
   "execution_count": 77,
   "metadata": {},
   "outputs": [
    {
     "data": {
      "text/plain": [
       "(15120, 3)"
      ]
     },
     "execution_count": 77,
     "metadata": {},
     "output_type": "execute_result"
    }
   ],
   "source": [
    "df_coins.shape"
   ]
  },
  {
   "cell_type": "code",
   "execution_count": null,
   "metadata": {},
   "outputs": [],
   "source": []
  }
 ],
 "metadata": {
  "kernelspec": {
   "display_name": "Python 3",
   "language": "python",
   "name": "python3"
  },
  "language_info": {
   "codemirror_mode": {
    "name": "ipython",
    "version": 3
   },
   "file_extension": ".py",
   "mimetype": "text/x-python",
   "name": "python",
   "nbconvert_exporter": "python",
   "pygments_lexer": "ipython3",
   "version": "3.6.4"
  }
 },
 "nbformat": 4,
 "nbformat_minor": 2
}
